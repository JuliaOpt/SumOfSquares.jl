{
 "cells": [
  {
   "outputs": [
    {
     "output_type": "execute_result",
     "data": {
      "text/plain": "isblockdim (generic function with 2 methods)"
     },
     "metadata": {},
     "execution_count": 1
    }
   ],
   "cell_type": "code",
   "source": [
    "using LinearAlgebra\n",
    "using DataStructures\n",
    "\n",
    "function row_echelon_linsolve(A::Matrix{T}, b::Vector{T}) where {T}\n",
    "    j = 0\n",
    "    x = map(1:size(A, 1)) do i\n",
    "        while j < size(A, 2)\n",
    "            j += 1\n",
    "            if isone(A[i, j]) && all(k -> k == i || iszero(A[k, j]), 1:size(A, 1))\n",
    "                return b[j]\n",
    "            end\n",
    "        end\n",
    "        error(\"Not in row_echelon_form, cannot find for `$i`th entry.\")\n",
    "    end\n",
    "    @assert x'A == b'\n",
    "    return x\n",
    "end\n",
    "\n",
    "function block_diag(As, m)\n",
    "    for A in As\n",
    "        #T = eigen(A).vectors\n",
    "        T = schur(A).vectors\n",
    "        #@show D\n",
    "        iT = inv(T)\n",
    "        n = LinearAlgebra.checksquare(A)\n",
    "        union_find = IntDisjointSets(n)\n",
    "        Bs = [iT * A * T for A in As]\n",
    "        for B in Bs\n",
    "            merge_sparsity!(union_find, B)\n",
    "            #@show union_find\n",
    "        end\n",
    "        d = Dict{Int,Vector{Int}}()\n",
    "        for i in 1:n\n",
    "            r = find_root!(union_find, i)\n",
    "            d[r] = push!(get(d, r, Int[]), i)\n",
    "        end\n",
    "        #@show d\n",
    "        if length(d) > 1\n",
    "            U = similar(T)\n",
    "            offset = 0\n",
    "            for v in values(d)\n",
    "                @assert iszero(length(v) % m)\n",
    "                if length(v) == m\n",
    "                    V = T[:, v]\n",
    "                else\n",
    "                    Cs = [B[v, v] for B in Bs]\n",
    "                    V = block_diag(Cs, m)\n",
    "                    V === nothing && break\n",
    "                    V *= T[:, v]'\n",
    "                end\n",
    "                U[:, offset .+ eachindex(v)] = V\n",
    "                offset += length(v)\n",
    "            end\n",
    "            if offset == n\n",
    "                return U\n",
    "            end\n",
    "        end\n",
    "    end\n",
    "end\n",
    "\n",
    "function merge_sparsity!(union_find::IntDisjointSets, A, tol=1e-8)\n",
    "    for I in CartesianIndices(A)\n",
    "        i, j = I.I\n",
    "        if abs(A[I]) > tol\n",
    "            union!(union_find, i, j)\n",
    "        end\n",
    "    end\n",
    "end\n",
    "\n",
    "function isblockdim(A, m, tol=1e-8)\n",
    "    for I in CartesianIndices(A)\n",
    "        i, j = I.I\n",
    "        if abs(i - j) >= m && abs(A[I]) > tol\n",
    "            return false\n",
    "        end\n",
    "    end\n",
    "    return true\n",
    "end"
   ],
   "metadata": {},
   "execution_count": 1
  },
  {
   "cell_type": "markdown",
   "source": [
    "---\n",
    "\n",
    "*This notebook was generated using [Literate.jl](https://github.com/fredrikekre/Literate.jl).*"
   ],
   "metadata": {}
  }
 ],
 "nbformat_minor": 3,
 "metadata": {
  "language_info": {
   "file_extension": ".jl",
   "mimetype": "application/julia",
   "name": "julia",
   "version": "1.5.4"
  },
  "kernelspec": {
   "name": "julia-1.5",
   "display_name": "Julia 1.5.4",
   "language": "julia"
  }
 },
 "nbformat": 4
}
