{
 "cells": [
  {
   "cell_type": "markdown",
   "source": [
    "# Symmetry reduction"
   ],
   "metadata": {}
  },
  {
   "cell_type": "markdown",
   "source": [
    "**Adapted from**: https://github.com/kalmarek/SymbolicWedderburn.jl/blob/tw/ex_sos/examples/ex_C4.jl"
   ],
   "metadata": {}
  },
  {
   "outputs": [
    {
     "name": "stdout",
     "output_type": "stream",
     "text": [
      "    Cloning git-repo `https://github.com/kalmarek/SymbolicWedderburn.jl`\n",
      "\u001b[?25l    Fetching: [>                                        ]  0.0 %\r\u001b[2K\u001b[?25h   Updating git-repo `https://github.com/kalmarek/SymbolicWedderburn.jl`\n",
      "\u001b[?25l    Fetching: [>                                        ]  0.0 %\r\u001b[2K\u001b[?25h   Updating registry at `~/.julia/registries/General`\n",
      "  Resolving package versions...\n",
      "Updating `~/work/SumOfSquares.jl/SumOfSquares.jl/docs/Project.toml`\n",
      "  [858aa9a9] + SymbolicWedderburn v0.1.0 `https://github.com/kalmarek/SymbolicWedderburn.jl#tw/ex_sos`\n",
      "Updating `~/work/SumOfSquares.jl/SumOfSquares.jl/docs/Manifest.toml`\n",
      "  [858aa9a9] + SymbolicWedderburn v0.1.0 `https://github.com/kalmarek/SymbolicWedderburn.jl#tw/ex_sos`\n"
     ]
    },
    {
     "output_type": "execute_result",
     "data": {
      "text/plain": "(DynamicPolynomials.PolyVar{true}[x₁, x₂, x₃, x₄],)"
     },
     "metadata": {},
     "execution_count": 1
    }
   ],
   "cell_type": "code",
   "source": [
    "using Pkg\n",
    "pkg\"add https://github.com/kalmarek/SymbolicWedderburn.jl#tw/ex_sos\"\n",
    "\n",
    "import MutableArithmetics\n",
    "const MA = MutableArithmetics\n",
    "using MultivariatePolynomials\n",
    "const MP = MultivariatePolynomials\n",
    "using MultivariateBases\n",
    "const MB = MultivariateBases\n",
    "\n",
    "using DynamicPolynomials\n",
    "@polyvar x[1:4]"
   ],
   "metadata": {},
   "execution_count": 1
  },
  {
   "cell_type": "markdown",
   "source": [
    "We would like to find the minimum value of the polynomial"
   ],
   "metadata": {}
  },
  {
   "outputs": [
    {
     "output_type": "execute_result",
     "data": {
      "text/plain": "x₁² + x₂² + x₃² + x₄² + x₁ + x₂ + x₃ + x₄",
      "text/latex": "$$ x_{1}^{2} + x_{2}^{2} + x_{3}^{2} + x_{4}^{2} + x_{1} + x_{2} + x_{3} + x_{4} $$"
     },
     "metadata": {},
     "execution_count": 2
    }
   ],
   "cell_type": "code",
   "source": [
    "poly = sum(x) + sum(x.^2)"
   ],
   "metadata": {},
   "execution_count": 2
  },
  {
   "cell_type": "markdown",
   "source": [
    "As we can decouple the problem for each `x[i]` for which `x[i] + x[i]^2` has\n",
    "minimum value 0.25, we would expect to get `-1` as answer.\n",
    "Can this decoupling be exploited by SumOfSquares as well ?\n",
    "For this, we need to use a certificate that can exploit the permutation symmetry of the polynomial.\n",
    "This is still a work in progress in SumOfSquares, so we need to define things here:"
   ],
   "metadata": {}
  },
  {
   "outputs": [
    {
     "output_type": "execute_result",
     "data": {
      "text/plain": "Permutation group on 1 generators\n⟨(1,2,3,4)⟩\n"
     },
     "metadata": {},
     "execution_count": 3
    }
   ],
   "cell_type": "code",
   "source": [
    "using SymbolicWedderburn\n",
    "using PermutationGroups\n",
    "using Cyclotomics\n",
    "using SumOfSquares\n",
    "\n",
    "function SymbolicWedderburn.OnPoints(basis::Union{MonomialVector, AbstractVector{<:Monomial}})\n",
    "    basis_exps = Vector{Vector{Int}}(undef, length(basis))\n",
    "    basis_dict = Dict{Vector{Int}, Int}()\n",
    "    sizehint!(basis_dict, length(basis))\n",
    "\n",
    "    for (i, b) in enumerate(basis)\n",
    "        e = MP.exponents(b) # so that we allocate exponents only once\n",
    "        basis_exps[i] = e\n",
    "        basis_dict[e] = i\n",
    "    end\n",
    "\n",
    "    return SymbolicWedderburn.OnPoints(basis_exps, basis_dict)\n",
    "end\n",
    "function symmetry_adapted_basis(G, mvec)\n",
    "    chars_vars = SymbolicWedderburn.characters_dixon(G)\n",
    "\n",
    "    chars = chars_vars\n",
    "    basis = mvec\n",
    "\n",
    "    @assert all(χ.inv_of == first(chars).inv_of for χ in chars)\n",
    "\n",
    "    induced_action = SymbolicWedderburn.OnPoints(basis)\n",
    "    ccG_large = induced_action.(conjugacy_classes(first(chars)))\n",
    "\n",
    "    let ccls = ccG_large, large_gens = induced_action.(gens(G)) # double check:\n",
    "        G_large = PermGroup(large_gens)\n",
    "        ccG_large = conjugacy_classes(G_large)\n",
    "        @assert all(Set.(collect.(ccG_large)) .== Set.(collect.(ccls)))\n",
    "    end\n",
    "\n",
    "    chars_mvec = [SymbolicWedderburn.Character(values(χ), χ.inv_of, ccG_large) for χ in chars]\n",
    "\n",
    "    vr_chars = SymbolicWedderburn.real_vchars(chars_mvec)\n",
    "    U = filter!(x->all(!iszero, x), [SymbolicWedderburn.matrix_projection(χ) for χ in vr_chars])\n",
    "    R = map(U) do c_u\n",
    "        u = last(c_u)\n",
    "        if all(isreal, u)\n",
    "            image_coeffs, pivots = SymbolicWedderburn.row_echelon_form(float.(u))\n",
    "            dim = length(pivots)\n",
    "            image_coeffs[1:dim, :]\n",
    "        else\n",
    "            throw(\"Not Implemented\")\n",
    "        end\n",
    "    end\n",
    "\n",
    "    return map(R) do Ri\n",
    "        FixedPolynomialBasis(Ri * mvec)\n",
    "    end\n",
    "end\n",
    "function MP.polynomialtype(::Type{<:MB.AbstractPolynomialVectorBasis{PT}}, T::Type) where PT\n",
    "    C = MP.coefficienttype(PT)\n",
    "    U = MA.promote_operation(*, C, T)\n",
    "    V = MA.promote_operation(+, U, U)\n",
    "    return MP.polynomialtype(PT, V)\n",
    "end\n",
    "struct SymmetricIdeal{CT, GT} <: Certificate.AbstractIdealCertificate\n",
    "    cone::CT\n",
    "    group::GT\n",
    "end\n",
    "SumOfSquares.matrix_cone_type(::Type{<:SymmetricIdeal{CT}}) where {CT} = SumOfSquares.matrix_cone_type(CT)\n",
    "Certificate.get(::Type{<:SymmetricIdeal}, ::SumOfSquares.Certificate.GramBasisType) = Vector{MB.FixedPolynomialBasis}\n",
    "Certificate.zero_basis_type(::Type{<:SymmetricIdeal}) = MB.MonomialBasis\n",
    "Certificate.zero_basis(::SymmetricIdeal) = MB.MonomialBasis\n",
    "Certificate.get(::SymmetricIdeal, ::Certificate.ReducedPolynomial, poly, domain) = poly\n",
    "function Certificate.get(cert::SymmetricIdeal, ::Certificate.GramBasis, poly)\n",
    "    basis = Certificate.maxdegree_gram_basis(MB.MonomialBasis, MP.variables(poly), MP.maxdegree(poly))\n",
    "    return symmetry_adapted_basis(cert.group, basis.monomials)\n",
    "end\n",
    "G = PermGroup([perm\"(1,2,3,4)\"])"
   ],
   "metadata": {},
   "execution_count": 3
  },
  {
   "cell_type": "markdown",
   "source": [
    "We can use this certificate as follows:"
   ],
   "metadata": {}
  },
  {
   "outputs": [
    {
     "name": "stdout",
     "output_type": "stream",
     "text": [
      "Iter:  7 Ap: 9.00e-01 Pobj:  0.0000000e+00 Ad: 1.00e+00 Dobj:  5.8619776e-14 \n",
      "Success: SDP solved\n",
      "Primal objective value: 0.0000000e+00 \n",
      "Dual objective value: 0.0000000e+00 \n",
      "Relative primal infeasibility: 1.75e-09 \n",
      "Relative dual infeasibility: 2.83e-50 \n",
      "Real Relative Gap: 0.00e+00 \n",
      "XZ Relative Gap: 8.00e-50 \n",
      "DIMACS error measures: 2.63e-09 0.00e+00 2.83e-50 0.00e+00 0.00e+00 8.00e-50\n",
      "CSDP 6.2.0\n",
      "Iter:  0 Ap: 0.00e+00 Pobj:  0.0000000e+00 Ad: 0.00e+00 Dobj:  0.0000000e+00 \n",
      "Iter:  1 Ap: 9.92e-01 Pobj: -4.6075840e+00 Ad: 9.50e-01 Dobj:  1.7648750e+01 \n",
      "Iter:  2 Ap: 1.00e+00 Pobj: -2.3800098e+00 Ad: 9.16e-01 Dobj:  4.1804032e+00 \n",
      "Iter:  3 Ap: 1.00e+00 Pobj: -1.0644340e+00 Ad: 8.91e-01 Dobj:  2.9724937e-02 \n",
      "Iter:  4 Ap: 1.00e+00 Pobj: -1.0071943e+00 Ad: 9.32e-01 Dobj: -9.0159234e-01 \n",
      "Iter:  5 Ap: 1.00e+00 Pobj: -1.0005883e+00 Ad: 9.52e-01 Dobj: -9.9300460e-01 \n",
      "Iter:  6 Ap: 1.00e+00 Pobj: -1.0000420e+00 Ad: 9.80e-01 Dobj: -9.9969898e-01 \n",
      "Iter:  7 Ap: 1.00e+00 Pobj: -1.0000028e+00 Ad: 1.00e+00 Dobj: -9.9999090e-01 \n",
      "Iter:  8 Ap: 1.00e+00 Pobj: -1.0000003e+00 Ad: 1.00e+00 Dobj: -1.0000000e+00 \n",
      "Iter:  9 Ap: 1.00e+00 Pobj: -1.0000000e+00 Ad: 9.93e-01 Dobj: -9.9999998e-01 \n"
     ]
    },
    {
     "output_type": "execute_result",
     "data": {
      "text/plain": "-1.0000000004504892",
      "text/latex": "- 1 . 0 0 0 0 0 0 0 0 0 4 5 0 4 8 9 2"
     },
     "metadata": {},
     "execution_count": 4
    }
   ],
   "cell_type": "code",
   "source": [
    "import CSDP\n",
    "solver = CSDP.Optimizer\n",
    "model = Model(solver)\n",
    "@variable(model, t)\n",
    "@objective(model, Max, t)\n",
    "con_ref = @constraint(model, sum(x) + sum(x.^2) - t in SOSCone(), ideal_certificate = SymmetricIdeal(SOSCone(), G))\n",
    "optimize!(model)\n",
    "value(t)"
   ],
   "metadata": {},
   "execution_count": 4
  },
  {
   "cell_type": "markdown",
   "source": [
    "We indeed find `-1`, let's verify that symmetry was exploited:"
   ],
   "metadata": {}
  },
  {
   "outputs": [
    {
     "output_type": "execute_result",
     "data": {
      "text/plain": "SparseGramMatrix{Float64,FixedPolynomialBasis{DynamicPolynomials.Polynomial{true,Float64},Array{DynamicPolynomials.Polynomial{true,Float64},1}},Float64,SymMatrix{Float64}}(GramMatrix{Float64,FixedPolynomialBasis{DynamicPolynomials.Polynomial{true,Float64},Array{DynamicPolynomials.Polynomial{true,Float64},1}},Float64,SymMatrix{Float64}}[GramMatrix{Float64,FixedPolynomialBasis{DynamicPolynomials.Polynomial{true,Float64},Array{DynamicPolynomials.Polynomial{true,Float64},1}},Float64,SymMatrix{Float64}}([0.2500000000000006], FixedPolynomialBasis{DynamicPolynomials.Polynomial{true,Float64},Array{DynamicPolynomials.Polynomial{true,Float64},1}}(DynamicPolynomials.Polynomial{true,Float64}[x₁ - x₂ + x₃ - x₄])), GramMatrix{Float64,FixedPolynomialBasis{DynamicPolynomials.Polynomial{true,Float64},Array{DynamicPolynomials.Polynomial{true,Float64},1}},Float64,SymMatrix{Float64}}([0.25000000000000194 0.499999999999997; 0.499999999999997 1.000000000450487], FixedPolynomialBasis{DynamicPolynomials.Polynomial{true,Float64},Array{DynamicPolynomials.Polynomial{true,Float64},1}}(DynamicPolynomials.Polynomial{true,Float64}[x₁ + x₂ + x₃ + x₄, 1.0])), GramMatrix{Float64,FixedPolynomialBasis{DynamicPolynomials.Polynomial{true,Float64},Array{DynamicPolynomials.Polynomial{true,Float64},1}},Float64,SymMatrix{Float64}}([0.5000000000000011 1.3033204617230333e-16; 1.3033204617230333e-16 0.5000000000000013], FixedPolynomialBasis{DynamicPolynomials.Polynomial{true,Float64},Array{DynamicPolynomials.Polynomial{true,Float64},1}}(DynamicPolynomials.Polynomial{true,Float64}[x₁ - x₃, x₂ - x₄]))])"
     },
     "metadata": {},
     "execution_count": 5
    }
   ],
   "cell_type": "code",
   "source": [
    "gram_matrix(con_ref)"
   ],
   "metadata": {},
   "execution_count": 5
  },
  {
   "cell_type": "markdown",
   "source": [
    "---\n",
    "\n",
    "*This notebook was generated using [Literate.jl](https://github.com/fredrikekre/Literate.jl).*"
   ],
   "metadata": {}
  }
 ],
 "nbformat_minor": 3,
 "metadata": {
  "language_info": {
   "file_extension": ".jl",
   "mimetype": "application/julia",
   "name": "julia",
   "version": "1.5.3"
  },
  "kernelspec": {
   "name": "julia-1.5",
   "display_name": "Julia 1.5.3",
   "language": "julia"
  }
 },
 "nbformat": 4
}
