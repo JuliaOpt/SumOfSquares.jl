{
 "cells": [
  {
   "cell_type": "markdown",
   "source": [
    "# Even reduction"
   ],
   "metadata": {}
  },
  {
   "outputs": [
    {
     "name": "stdout",
     "output_type": "stream",
     "text": [
      "    Cloning git-repo `https://github.com/kalmarek/SymbolicWedderburn.jl`\n",
      "\u001b[?25l    Fetching: [>                                        ]  0.0 %\r\u001b[2K\u001b[?25h   Updating git-repo `https://github.com/kalmarek/SymbolicWedderburn.jl`\n",
      "\u001b[?25l    Fetching: [>                                        ]  0.0 %\r\u001b[2K\u001b[?25h   Updating registry at `~/.julia/registries/General`\n",
      "#=#=#                                                                         \r\r###################################################################       94.4%\r######################################################################## 100.0%\n",
      "  Resolving package versions...\n",
      "Updating `~/work/SumOfSquares.jl/SumOfSquares.jl/docs/Project.toml`\n",
      "  [858aa9a9] + SymbolicWedderburn v0.1.0 `https://github.com/kalmarek/SymbolicWedderburn.jl#bl/nonperm`\n",
      "Updating `~/work/SumOfSquares.jl/SumOfSquares.jl/docs/Manifest.toml`\n",
      "  [858aa9a9] + SymbolicWedderburn v0.1.0 `https://github.com/kalmarek/SymbolicWedderburn.jl#bl/nonperm`\n"
     ]
    },
    {
     "output_type": "execute_result",
     "data": {
      "text/plain": "(x,)"
     },
     "metadata": {},
     "execution_count": 1
    }
   ],
   "cell_type": "code",
   "source": [
    "using Pkg\n",
    "pkg\"add https://github.com/kalmarek/SymbolicWedderburn.jl#bl/nonperm\"\n",
    "\n",
    "import MutableArithmetics\n",
    "const MA = MutableArithmetics\n",
    "using MultivariatePolynomials\n",
    "const MP = MultivariatePolynomials\n",
    "using MultivariateBases\n",
    "const MB = MultivariateBases\n",
    "\n",
    "using DynamicPolynomials\n",
    "@polyvar x"
   ],
   "metadata": {},
   "execution_count": 1
  },
  {
   "cell_type": "markdown",
   "source": [
    "We would like to find the minimum value of the polynomial"
   ],
   "metadata": {}
  },
  {
   "outputs": [],
   "cell_type": "code",
   "source": [
    "poly = x^4 - 2x^2\n",
    "\n",
    "using SymbolicWedderburn\n",
    "using PermutationGroups\n",
    "using Cyclotomics\n",
    "using SumOfSquares"
   ],
   "metadata": {},
   "execution_count": 2
  },
  {
   "cell_type": "markdown",
   "source": [
    "This is still a work in progress in SumOfSquares, so we need to define things here that will be moved inside SumOfSquares.jl once SymbolicWedderburn.jl is released:"
   ],
   "metadata": {}
  },
  {
   "outputs": [],
   "cell_type": "code",
   "source": [
    "struct ScaledPerm2{T, I} <: AbstractPerm\n",
    "    indices::Vector{Pair{I, T}}\n",
    "end\n",
    "Base.one(p::ScaledPerm2{T}) where {T} = ScaledPerm2([i => one(T) for i in eachindex(p.indices)])\n",
    "Base.:(==)(p::ScaledPerm2, q::ScaledPerm2) = p.indices == q.indices\n",
    "Base.hash(p::ScaledPerm2, u::UInt64) = hash(p.indices, u)\n",
    "SymbolicWedderburn.degree(p::ScaledPerm2) = length(p.indices)\n",
    "Base.:^(i::Integer, p::ScaledPerm2) = p.indices[i]\n",
    "function SymbolicWedderburn.add_inverse_permutation!(result, val, i::Int, j::Pair)\n",
    "    result[i, j.first] += val / j.second\n",
    "end\n",
    "\n",
    "function permutation(ehom::SymbolicWedderburn.ExtensionHomomorphism{T}, els::Vector{T}) where {T}\n",
    "    return Perm([ehom[el] for el in els])\n",
    "end\n",
    "function permutation(ehom::SymbolicWedderburn.ExtensionHomomorphism{<:AbstractMonomial}, terms::Vector{<:AbstractTerm})\n",
    "    return ScaledPerm2([ehom[monomial(term)] => coefficient(term) for term in terms])\n",
    "end\n",
    "function (ehom::SymbolicWedderburn.ExtensionHomomorphism)(action)\n",
    "    return permutation(ehom, [f^action for f in ehom.features])\n",
    "end\n",
    "\n",
    "function SymbolicWedderburn.ExtensionHomomorphism(basis::MB.MonomialBasis)\n",
    "    monos = collect(basis.monomials)\n",
    "    mono_to_index = Dict(monos[i] => i for i in eachindex(monos))\n",
    "    return SymbolicWedderburn.ExtensionHomomorphism(monos, mono_to_index)\n",
    "end\n",
    "\n",
    "function MP.polynomialtype(::Type{<:MB.AbstractPolynomialVectorBasis{PT}}, T::Type) where PT\n",
    "    C = MP.coefficienttype(PT)\n",
    "    U = MA.promote_operation(*, C, T)\n",
    "    V = MA.promote_operation(+, U, U)\n",
    "    return MP.polynomialtype(PT, V)\n",
    "end\n",
    "\n",
    "struct SymmetricIdeal{CT, GT} <: Certificate.AbstractIdealCertificate\n",
    "    cone::CT\n",
    "    group::GT\n",
    "end\n",
    "SumOfSquares.matrix_cone_type(::Type{<:SymmetricIdeal{CT}}) where {CT} = SumOfSquares.matrix_cone_type(CT)\n",
    "Certificate.get(::Type{<:SymmetricIdeal}, ::SumOfSquares.Certificate.GramBasisType) = Vector{MB.FixedPolynomialBasis}\n",
    "Certificate.zero_basis_type(::Type{<:SymmetricIdeal}) = MB.MonomialBasis\n",
    "Certificate.zero_basis(::SymmetricIdeal) = MB.MonomialBasis\n",
    "Certificate.get(::SymmetricIdeal, ::Certificate.ReducedPolynomial, poly, domain) = poly\n",
    "function Certificate.get(cert::SymmetricIdeal, ::Certificate.GramBasis, poly)\n",
    "    basis = Certificate.maxdegree_gram_basis(MB.MonomialBasis, MP.variables(poly), MP.maxdegree(poly))\n",
    "    R = SymbolicWedderburn.symmetry_adapted_basis(Float64, cert.group, basis)\n",
    "    return map(R) do Ri\n",
    "        FixedPolynomialBasis(convert(Matrix{Float64}, Ri) * basis.monomials)\n",
    "    end\n",
    "end"
   ],
   "metadata": {},
   "execution_count": 3
  },
  {
   "cell_type": "markdown",
   "source": [
    "We define the custom group as follows:"
   ],
   "metadata": {}
  },
  {
   "outputs": [
    {
     "output_type": "execute_result",
     "data": {
      "text/plain": "Main.##268.EvenOddSymmetry()"
     },
     "metadata": {},
     "execution_count": 4
    }
   ],
   "cell_type": "code",
   "source": [
    "struct EvenOddAction <: GroupElem\n",
    "    identity::Bool\n",
    "end\n",
    "PermutationGroups.order(a::EvenOddAction) = a.identity ? 1 : 2\n",
    "Base.one(::EvenOddAction) = EvenOddAction(true)\n",
    "Base.inv(a::EvenOddAction) = a\n",
    "PermutationGroups.mul!(::EvenOddAction, a::EvenOddAction, b::EvenOddAction) = EvenOddAction(xor(a.identity, b.identity))\n",
    "function Base.:^(mono::AbstractMonomial, a::EvenOddAction)\n",
    "    if a.identity || iseven(MP.degree(mono))\n",
    "        return 1 * mono\n",
    "    else\n",
    "        return -1 * mono\n",
    "    end\n",
    "end\n",
    "\n",
    "struct EvenOddSymmetry <: Group\n",
    "end\n",
    "_orbit(cc) = PermutationGroups.Orbit(cc, Dict(a => nothing for a in cc))\n",
    "SymbolicWedderburn.conjugacy_classes_orbit(::EvenOddSymmetry) = [_orbit([EvenOddAction(true)]), _orbit([EvenOddAction(false)])]\n",
    "\n",
    "G = EvenOddSymmetry()"
   ],
   "metadata": {},
   "execution_count": 4
  },
  {
   "cell_type": "markdown",
   "source": [
    "We can exploit the symmetry as follows:"
   ],
   "metadata": {}
  },
  {
   "outputs": [
    {
     "name": "stdout",
     "output_type": "stream",
     "text": [
      "CSDP 6.2.0\n",
      "Iter:  0 Ap: 0.00e+00 Pobj:  0.0000000e+00 Ad: 0.00e+00 Dobj:  0.0000000e+00 \n",
      "Iter:  1 Ap: 9.00e-01 Pobj: -4.4265675e+00 Ad: 9.00e-01 Dobj: -3.0000515e-02 \n",
      "Iter:  2 Ap: 1.00e+00 Pobj: -4.9278250e+00 Ad: 9.00e-01 Dobj:  1.3441397e+00 \n",
      "Iter:  3 Ap: 9.00e-01 Pobj: -1.7730372e+00 Ad: 9.00e-01 Dobj: -6.8418354e-01 \n",
      "Iter:  4 Ap: 9.00e-01 Pobj: -1.1059483e+00 Ad: 9.00e-01 Dobj: -9.8702448e-01 \n",
      "Iter:  5 Ap: 9.00e-01 Pobj: -1.0107592e+00 Ad: 9.00e-01 Dobj: -9.9870634e-01 \n",
      "Iter:  6 Ap: 9.00e-01 Pobj: -1.0010797e+00 Ad: 1.00e+00 Dobj: -9.9999427e-01 \n",
      "Iter:  7 Ap: 9.00e-01 Pobj: -1.0001071e+00 Ad: 1.00e+00 Dobj: -1.0000010e+00 \n",
      "Iter:  8 Ap: 1.00e+00 Pobj: -1.0000113e+00 Ad: 1.00e+00 Dobj: -9.9999572e-01 \n",
      "Iter:  9 Ap: 1.00e+00 Pobj: -1.0000009e+00 Ad: 1.00e+00 Dobj: -1.0000016e+00 \n",
      "Iter: 10 Ap: 1.00e+00 Pobj: -1.0000000e+00 Ad: 1.00e+00 Dobj: -1.0000000e+00 \n",
      "value(t) = -1.0000000042454928\n"
     ]
    },
    {
     "output_type": "execute_result",
     "data": {
      "text/plain": "-1.0000000042454928"
     },
     "metadata": {},
     "execution_count": 5
    }
   ],
   "cell_type": "code",
   "source": [
    "import CSDP\n",
    "solver = CSDP.Optimizer\n",
    "model = Model(solver)\n",
    "@variable(model, t)\n",
    "@objective(model, Max, t)\n",
    "con_ref = @constraint(model, poly - t in SOSCone(), ideal_certificate = SymmetricIdeal(SOSCone(), G))\n",
    "optimize!(model)\n",
    "@show value(t)\n",
    "value(t)"
   ],
   "metadata": {},
   "execution_count": 5
  },
  {
   "cell_type": "markdown",
   "source": [
    "We indeed find `-1`, let's verify that symmetry was exploited:"
   ],
   "metadata": {}
  },
  {
   "outputs": [
    {
     "output_type": "execute_result",
     "data": {
      "text/plain": "SparseGramMatrix{Float64,FixedPolynomialBasis{DynamicPolynomials.Polynomial{true,Float64},Array{DynamicPolynomials.Polynomial{true,Float64},1}},Float64,SymMatrix{Float64}}(GramMatrix{Float64,FixedPolynomialBasis{DynamicPolynomials.Polynomial{true,Float64},Array{DynamicPolynomials.Polynomial{true,Float64},1}},Float64,SymMatrix{Float64}}[GramMatrix{Float64,FixedPolynomialBasis{DynamicPolynomials.Polynomial{true,Float64},Array{DynamicPolynomials.Polynomial{true,Float64},1}},Float64,SymMatrix{Float64}}([2.267148335865912e-9], FixedPolynomialBasis{DynamicPolynomials.Polynomial{true,Float64},Array{DynamicPolynomials.Polynomial{true,Float64},1}}(DynamicPolynomials.Polynomial{true,Float64}[x])), GramMatrix{Float64,FixedPolynomialBasis{DynamicPolynomials.Polynomial{true,Float64},Array{DynamicPolynomials.Polynomial{true,Float64},1}},Float64,SymMatrix{Float64}}([0.999999999999832 -1.0000000011336343; -1.0000000011336343 1.0000000042456882], FixedPolynomialBasis{DynamicPolynomials.Polynomial{true,Float64},Array{DynamicPolynomials.Polynomial{true,Float64},1}}(DynamicPolynomials.Polynomial{true,Float64}[x², 1.0]))])"
     },
     "metadata": {},
     "execution_count": 6
    }
   ],
   "cell_type": "code",
   "source": [
    "gram_matrix(con_ref)"
   ],
   "metadata": {},
   "execution_count": 6
  },
  {
   "cell_type": "markdown",
   "source": [
    "---\n",
    "\n",
    "*This notebook was generated using [Literate.jl](https://github.com/fredrikekre/Literate.jl).*"
   ],
   "metadata": {}
  }
 ],
 "nbformat_minor": 3,
 "metadata": {
  "language_info": {
   "file_extension": ".jl",
   "mimetype": "application/julia",
   "name": "julia",
   "version": "1.5.3"
  },
  "kernelspec": {
   "name": "julia-1.5",
   "display_name": "Julia 1.5.3",
   "language": "julia"
  }
 },
 "nbformat": 4
}
